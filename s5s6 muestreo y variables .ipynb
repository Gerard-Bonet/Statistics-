{
 "cells": [
  {
   "cell_type": "code",
   "execution_count": 16,
   "id": "124fff0c",
   "metadata": {},
   "outputs": [],
   "source": [
    "import sqlite3\n",
    "import pandas as pd\n",
    "import sqlalchemy\n",
    "import numpy as np\n",
    "import scipy\n",
    "from scipy import stats"
   ]
  },
  {
   "cell_type": "markdown",
   "id": "06fef4b0",
   "metadata": {},
   "source": [
    "# Valores estadísticos de un muestreo"
   ]
  },
  {
   "cell_type": "markdown",
   "id": "f61207c6",
   "metadata": {},
   "source": [
    "\n",
    "Vamos a realizar un muestreo sobre datos de fútbol. He intentado conseguir una base de datos real de algún equipo que trabaje\n",
    "\n",
    "con Big Data, como el Manchester City, pero la mayoría de información en internet es de pago, así que he usado la base\n",
    "\n",
    "de datos más grande que he encontrado, que aunque es interesante, es la base de datos de un  videojuego muy conocido, \n",
    "\n",
    "pero servirá para ilustrar un muestreo. \n",
    "\n",
    "**Nota: Presento conjuntamente los ejercicios de Nivel 1 de los Sprint 5 y 6 ya que en el Sprint 5 cometí un error. ** \n",
    "    \n",
    "**Reutilicé código del mismo ejercicio, para dar el valor a dos variables que eran importantes para encontrar el tamaño de la** \n",
    "\n",
    "**muestra.** "
   ]
  },
  {
   "cell_type": "code",
   "execution_count": 2,
   "id": "00cac68e",
   "metadata": {},
   "outputs": [
    {
     "data": {
      "text/html": [
       "<div>\n",
       "<style scoped>\n",
       "    .dataframe tbody tr th:only-of-type {\n",
       "        vertical-align: middle;\n",
       "    }\n",
       "\n",
       "    .dataframe tbody tr th {\n",
       "        vertical-align: top;\n",
       "    }\n",
       "\n",
       "    .dataframe thead th {\n",
       "        text-align: right;\n",
       "    }\n",
       "</style>\n",
       "<table border=\"1\" class=\"dataframe\">\n",
       "  <thead>\n",
       "    <tr style=\"text-align: right;\">\n",
       "      <th></th>\n",
       "      <th>id</th>\n",
       "      <th>player_fifa_api_id</th>\n",
       "      <th>player_api_id</th>\n",
       "      <th>date</th>\n",
       "      <th>overall_rating</th>\n",
       "      <th>potential</th>\n",
       "      <th>preferred_foot</th>\n",
       "      <th>attacking_work_rate</th>\n",
       "      <th>defensive_work_rate</th>\n",
       "      <th>crossing</th>\n",
       "      <th>...</th>\n",
       "      <th>vision</th>\n",
       "      <th>penalties</th>\n",
       "      <th>marking</th>\n",
       "      <th>standing_tackle</th>\n",
       "      <th>sliding_tackle</th>\n",
       "      <th>gk_diving</th>\n",
       "      <th>gk_handling</th>\n",
       "      <th>gk_kicking</th>\n",
       "      <th>gk_positioning</th>\n",
       "      <th>gk_reflexes</th>\n",
       "    </tr>\n",
       "  </thead>\n",
       "  <tbody>\n",
       "    <tr>\n",
       "      <th>0</th>\n",
       "      <td>1</td>\n",
       "      <td>218353</td>\n",
       "      <td>505942</td>\n",
       "      <td>2016-02-18 00:00:00</td>\n",
       "      <td>67.0</td>\n",
       "      <td>71.0</td>\n",
       "      <td>right</td>\n",
       "      <td>medium</td>\n",
       "      <td>medium</td>\n",
       "      <td>49.0</td>\n",
       "      <td>...</td>\n",
       "      <td>54.0</td>\n",
       "      <td>48.0</td>\n",
       "      <td>65.0</td>\n",
       "      <td>69.0</td>\n",
       "      <td>69.0</td>\n",
       "      <td>6.0</td>\n",
       "      <td>11.0</td>\n",
       "      <td>10.0</td>\n",
       "      <td>8.0</td>\n",
       "      <td>8.0</td>\n",
       "    </tr>\n",
       "    <tr>\n",
       "      <th>1</th>\n",
       "      <td>2</td>\n",
       "      <td>218353</td>\n",
       "      <td>505942</td>\n",
       "      <td>2015-11-19 00:00:00</td>\n",
       "      <td>67.0</td>\n",
       "      <td>71.0</td>\n",
       "      <td>right</td>\n",
       "      <td>medium</td>\n",
       "      <td>medium</td>\n",
       "      <td>49.0</td>\n",
       "      <td>...</td>\n",
       "      <td>54.0</td>\n",
       "      <td>48.0</td>\n",
       "      <td>65.0</td>\n",
       "      <td>69.0</td>\n",
       "      <td>69.0</td>\n",
       "      <td>6.0</td>\n",
       "      <td>11.0</td>\n",
       "      <td>10.0</td>\n",
       "      <td>8.0</td>\n",
       "      <td>8.0</td>\n",
       "    </tr>\n",
       "    <tr>\n",
       "      <th>2</th>\n",
       "      <td>3</td>\n",
       "      <td>218353</td>\n",
       "      <td>505942</td>\n",
       "      <td>2015-09-21 00:00:00</td>\n",
       "      <td>62.0</td>\n",
       "      <td>66.0</td>\n",
       "      <td>right</td>\n",
       "      <td>medium</td>\n",
       "      <td>medium</td>\n",
       "      <td>49.0</td>\n",
       "      <td>...</td>\n",
       "      <td>54.0</td>\n",
       "      <td>48.0</td>\n",
       "      <td>65.0</td>\n",
       "      <td>66.0</td>\n",
       "      <td>69.0</td>\n",
       "      <td>6.0</td>\n",
       "      <td>11.0</td>\n",
       "      <td>10.0</td>\n",
       "      <td>8.0</td>\n",
       "      <td>8.0</td>\n",
       "    </tr>\n",
       "    <tr>\n",
       "      <th>3</th>\n",
       "      <td>4</td>\n",
       "      <td>218353</td>\n",
       "      <td>505942</td>\n",
       "      <td>2015-03-20 00:00:00</td>\n",
       "      <td>61.0</td>\n",
       "      <td>65.0</td>\n",
       "      <td>right</td>\n",
       "      <td>medium</td>\n",
       "      <td>medium</td>\n",
       "      <td>48.0</td>\n",
       "      <td>...</td>\n",
       "      <td>53.0</td>\n",
       "      <td>47.0</td>\n",
       "      <td>62.0</td>\n",
       "      <td>63.0</td>\n",
       "      <td>66.0</td>\n",
       "      <td>5.0</td>\n",
       "      <td>10.0</td>\n",
       "      <td>9.0</td>\n",
       "      <td>7.0</td>\n",
       "      <td>7.0</td>\n",
       "    </tr>\n",
       "    <tr>\n",
       "      <th>4</th>\n",
       "      <td>5</td>\n",
       "      <td>218353</td>\n",
       "      <td>505942</td>\n",
       "      <td>2007-02-22 00:00:00</td>\n",
       "      <td>61.0</td>\n",
       "      <td>65.0</td>\n",
       "      <td>right</td>\n",
       "      <td>medium</td>\n",
       "      <td>medium</td>\n",
       "      <td>48.0</td>\n",
       "      <td>...</td>\n",
       "      <td>53.0</td>\n",
       "      <td>47.0</td>\n",
       "      <td>62.0</td>\n",
       "      <td>63.0</td>\n",
       "      <td>66.0</td>\n",
       "      <td>5.0</td>\n",
       "      <td>10.0</td>\n",
       "      <td>9.0</td>\n",
       "      <td>7.0</td>\n",
       "      <td>7.0</td>\n",
       "    </tr>\n",
       "  </tbody>\n",
       "</table>\n",
       "<p>5 rows × 42 columns</p>\n",
       "</div>"
      ],
      "text/plain": [
       "   id  player_fifa_api_id  player_api_id                 date  overall_rating  \\\n",
       "0   1              218353         505942  2016-02-18 00:00:00            67.0   \n",
       "1   2              218353         505942  2015-11-19 00:00:00            67.0   \n",
       "2   3              218353         505942  2015-09-21 00:00:00            62.0   \n",
       "3   4              218353         505942  2015-03-20 00:00:00            61.0   \n",
       "4   5              218353         505942  2007-02-22 00:00:00            61.0   \n",
       "\n",
       "   potential preferred_foot attacking_work_rate defensive_work_rate  crossing  \\\n",
       "0       71.0          right              medium              medium      49.0   \n",
       "1       71.0          right              medium              medium      49.0   \n",
       "2       66.0          right              medium              medium      49.0   \n",
       "3       65.0          right              medium              medium      48.0   \n",
       "4       65.0          right              medium              medium      48.0   \n",
       "\n",
       "   ...  vision  penalties  marking  standing_tackle  sliding_tackle  \\\n",
       "0  ...    54.0       48.0     65.0             69.0            69.0   \n",
       "1  ...    54.0       48.0     65.0             69.0            69.0   \n",
       "2  ...    54.0       48.0     65.0             66.0            69.0   \n",
       "3  ...    53.0       47.0     62.0             63.0            66.0   \n",
       "4  ...    53.0       47.0     62.0             63.0            66.0   \n",
       "\n",
       "   gk_diving  gk_handling  gk_kicking  gk_positioning  gk_reflexes  \n",
       "0        6.0         11.0        10.0             8.0          8.0  \n",
       "1        6.0         11.0        10.0             8.0          8.0  \n",
       "2        6.0         11.0        10.0             8.0          8.0  \n",
       "3        5.0         10.0         9.0             7.0          7.0  \n",
       "4        5.0         10.0         9.0             7.0          7.0  \n",
       "\n",
       "[5 rows x 42 columns]"
      ]
     },
     "execution_count": 2,
     "metadata": {},
     "output_type": "execute_result"
    }
   ],
   "source": [
    "con= sqlite3.connect(\"database.sqlite\")# importamos la base de datos. \n",
    "\n",
    "\n",
    "df = pd.read_sql_query( \"SELECT * from Player_Attributes\", con)\n",
    "df.head()"
   ]
  },
  {
   "cell_type": "code",
   "execution_count": 3,
   "id": "0abeba52",
   "metadata": {},
   "outputs": [
    {
     "data": {
      "text/plain": [
       "Index(['id', 'player_fifa_api_id', 'player_api_id', 'date', 'overall_rating',\n",
       "       'potential', 'preferred_foot', 'attacking_work_rate',\n",
       "       'defensive_work_rate', 'crossing', 'finishing', 'heading_accuracy',\n",
       "       'short_passing', 'volleys', 'dribbling', 'curve', 'free_kick_accuracy',\n",
       "       'long_passing', 'ball_control', 'acceleration', 'sprint_speed',\n",
       "       'agility', 'reactions', 'balance', 'shot_power', 'jumping', 'stamina',\n",
       "       'strength', 'long_shots', 'aggression', 'interceptions', 'positioning',\n",
       "       'vision', 'penalties', 'marking', 'standing_tackle', 'sliding_tackle',\n",
       "       'gk_diving', 'gk_handling', 'gk_kicking', 'gk_positioning',\n",
       "       'gk_reflexes'],\n",
       "      dtype='object')"
      ]
     },
     "execution_count": 3,
     "metadata": {},
     "output_type": "execute_result"
    }
   ],
   "source": [
    "df.columns# miramos las columnas"
   ]
  },
  {
   "cell_type": "code",
   "execution_count": 4,
   "id": "cf5003bd",
   "metadata": {},
   "outputs": [
    {
     "data": {
      "text/plain": [
       "(183978, 42)"
      ]
     },
     "execution_count": 4,
     "metadata": {},
     "output_type": "execute_result"
    }
   ],
   "source": [
    "df.shape # dimensiones "
   ]
  },
  {
   "cell_type": "code",
   "execution_count": 5,
   "id": "7232ef4f",
   "metadata": {},
   "outputs": [],
   "source": [
    "# Para ilustrar dos técnicas de muestreo aleatorias, sistemática y simple, vamos a quedarnos con tan sólo tres variables, \n",
    "# una categórica, y dos numéricas: \n",
    "# preferred_foot, agility, crossing.\n",
    "\n",
    "\n",
    "dff= df [[\"preferred_foot\", \"agility\", \"crossing\"]]\n",
    "\n"
   ]
  },
  {
   "cell_type": "markdown",
   "id": "0b3a330e",
   "metadata": {},
   "source": [
    " Nuestro punto de partida será un __*muestreo piloto*__ lo suficientemente amplío para calcular la desviación estandar de cada \n",
    "variable numéricas, así como los porcentajes de la categórica. Supondremos que la única información de la que dispondremos será la población total, N = len (dff), por lo que **vamos a ignorar toda la información del data set que no obtengamos de las muestras, salvo N**\n",
    " \n",
    " Una vez, estimdas las dos desviaciones, y los porcentajes de la variable categórica, las usaremos como información pasada, para estimar el tamaño de la muestra, **n**. Por cada variable habrá un número de muestra mínimo dentro de un coeficiente de confianza, inventado, y un error relativo máximo. Para ello sacaremos el cáclulo del Estimador insesgado de la Media de la muestra, y de la proporción de clase. \n",
    " \n",
    " Teorías explicadas y demostradas en los siguientes enlaces. \n",
    " http://matematicas.unex.es/~inmatorres/teaching/muestreo/assets/Cap1.pdf\n",
    " http://matematicas.unex.es/~inmatorres/teaching/muestreo/assets/Cap_3.pdf\n",
    " http://matematicas.unex.es/~inmatorres/teaching/muestreo/assets/cap_5.pdf\n",
    " \n",
    " Llegando a dos fórmulas. \n",
    " \n",
    "\n",
    "\n",
    "* \\begin{aligned}\\cdot \\\\ n=\\dfrac{NZ^{2}\\sigma ^{2}}{\\left( N-1\\right)  E^{2}+z^{2}\\sigma ^{2}}\\end{aligned}\n",
    "\n",
    "\n",
    "* \\begin{aligned}\\cdot \\\\  n=\\dfrac{Z^{2}Npq}{\\left( N-1\\right) e^{2}+Z^{2}pq}\\end{aligned}"
   ]
  },
  {
   "cell_type": "code",
   "execution_count": 6,
   "id": "762bb516",
   "metadata": {},
   "outputs": [
    {
     "data": {
      "text/html": [
       "<div>\n",
       "<style scoped>\n",
       "    .dataframe tbody tr th:only-of-type {\n",
       "        vertical-align: middle;\n",
       "    }\n",
       "\n",
       "    .dataframe tbody tr th {\n",
       "        vertical-align: top;\n",
       "    }\n",
       "\n",
       "    .dataframe thead th {\n",
       "        text-align: right;\n",
       "    }\n",
       "</style>\n",
       "<table border=\"1\" class=\"dataframe\">\n",
       "  <thead>\n",
       "    <tr style=\"text-align: right;\">\n",
       "      <th></th>\n",
       "      <th>preferred_foot</th>\n",
       "      <th>agility</th>\n",
       "      <th>crossing</th>\n",
       "    </tr>\n",
       "  </thead>\n",
       "  <tbody>\n",
       "    <tr>\n",
       "      <th>112646</th>\n",
       "      <td>left</td>\n",
       "      <td>83.0</td>\n",
       "      <td>68.0</td>\n",
       "    </tr>\n",
       "    <tr>\n",
       "      <th>32835</th>\n",
       "      <td>left</td>\n",
       "      <td>77.0</td>\n",
       "      <td>72.0</td>\n",
       "    </tr>\n",
       "    <tr>\n",
       "      <th>82619</th>\n",
       "      <td>right</td>\n",
       "      <td>67.0</td>\n",
       "      <td>55.0</td>\n",
       "    </tr>\n",
       "    <tr>\n",
       "      <th>112330</th>\n",
       "      <td>right</td>\n",
       "      <td>60.0</td>\n",
       "      <td>22.0</td>\n",
       "    </tr>\n",
       "    <tr>\n",
       "      <th>7025</th>\n",
       "      <td>right</td>\n",
       "      <td>71.0</td>\n",
       "      <td>58.0</td>\n",
       "    </tr>\n",
       "  </tbody>\n",
       "</table>\n",
       "</div>"
      ],
      "text/plain": [
       "       preferred_foot  agility  crossing\n",
       "112646           left     83.0      68.0\n",
       "32835            left     77.0      72.0\n",
       "82619           right     67.0      55.0\n",
       "112330          right     60.0      22.0\n",
       "7025            right     71.0      58.0"
      ]
     },
     "execution_count": 6,
     "metadata": {},
     "output_type": "execute_result"
    }
   ],
   "source": [
    "# Primero de todo escogemos una muestra aleatoria simple, que nos servirá para obtener ciertos parámetros para luego usar como\n",
    "# referencia bibliográfica\n",
    "\n",
    "piloto = dff.sample(n = 300)\n",
    "\n",
    "piloto.head()\n"
   ]
  },
  {
   "cell_type": "markdown",
   "id": "4ce7ed81",
   "metadata": {},
   "source": [
    "* Ejércicio . Calcularemos las Mediana, la Moda , la media, la desviación estándar y así como el coeficiente de correlación\n",
    "\n"
   ]
  },
  {
   "cell_type": "code",
   "execution_count": 53,
   "id": "b7621dac",
   "metadata": {},
   "outputs": [
    {
     "name": "stdout",
     "output_type": "stream",
     "text": [
      "La variable agility tiene una Mediana de 68.0, una moda de 74.0 y un valor medio de  66.10\n",
      "La variable crossing tiene una Mediana de 60.0, una moda de 64.0 y un valor medio de  56.68\n"
     ]
    }
   ],
   "source": [
    "# Primero definiremos las funciones que calculen cada una de ellas. \n",
    "\n",
    "N = len (dff)\n",
    "\n",
    "# primero calcularemos la mediana, la moda y la  media de las dos variables cuantificables. \"agility\" y \"crossing\", \n",
    "\n",
    "agi= piloto [\"agility\"]\n",
    "cro= piloto [\"crossing\"]\n",
    "# limpiamos todos los valores nulos. \n",
    "agi=agi.dropna()\n",
    "cro=cro.dropna()\n",
    "\n",
    "# luego los pasamos a matrices, para uso posterior\n",
    "agi_mat= agi.to_numpy()\n",
    "cro_mat= cro.to_numpy()\n",
    "\n",
    "\n",
    "def mediana (z):# ha de ser un df de una sola columna \n",
    "    z= z.to_numpy()\n",
    "    y =z.T\n",
    "    x=np.sort(y)\n",
    "   \n",
    "    if len(x )%2 != 0:\n",
    "        return x[len(x)//2+1]\n",
    "    else : \n",
    "        return (x[len(x)//2]+ x[(len(x)//2)+1])/2\n",
    "    \n",
    "def moda (x):# x ha de ser un dataframe de una sola columna\n",
    "    y1= x.value_counts()\n",
    "\n",
    "    return y1[y1==y1.max()].index.to_list()\n",
    "\n",
    "def media (x): # x ha de ser un dataframe de una sola columna\n",
    "        y= x.to_numpy()\n",
    "        z= y.T\n",
    "        w= np.nansum(z)\n",
    "        return w/len(z)\n",
    "    \n",
    "     \n",
    "agimdna= mediana(agi)\n",
    "cromdna= mediana(cro)\n",
    "agimod= moda(agi)\n",
    "cromod=moda(cro)\n",
    "agimed= media(agi)\n",
    "cromed=media(cro)\n",
    "\n",
    "\n",
    "\n",
    "print (\"La variable {} tiene una Mediana de {}, una moda de {} y un valor medio de  {:.2f}\".format(\"agility\",\n",
    "                        agimdna,agimod[0],agimed) ) \n",
    "\n",
    "print (\"La variable {} tiene una Mediana de {}, una moda de {} y un valor medio de  {:.2f}\".format(\"crossing\",\n",
    "                        cromdna,cromod[0],cromed))\n",
    "\n"
   ]
  },
  {
   "cell_type": "code",
   "execution_count": 54,
   "id": "756115ed",
   "metadata": {},
   "outputs": [
    {
     "name": "stdout",
     "output_type": "stream",
     "text": [
      " la desviación estándar de agility es 13.14\n",
      " la desviación estándar de crossing es 16.81\n"
     ]
    }
   ],
   "source": [
    "s1= np.std(agi_mat)# desviación para la variable agility\n",
    "s2= np.std(cro_mat) # desviación para crossing. \n",
    "piloto.describe() # sacamos información estadística sobre la prueba piloto. Y de ahí sacamos la desviación de ambas \n",
    "# variables cuantificables. \n",
    "print ( \" la desviación estándar de {} es {:.2f}\".format(\"agility\", s1))\n",
    "print ( \" la desviación estándar de {} es {:.2f}\".format(\"crossing\", s2))\n",
    "\n"
   ]
  },
  {
   "cell_type": "code",
   "execution_count": 77,
   "id": "ada54930",
   "metadata": {},
   "outputs": [
    {
     "data": {
      "text/plain": [
       "<AxesSubplot:title={'center':'frecuencia de agilidad'}, ylabel='Frequency'>"
      ]
     },
     "execution_count": 77,
     "metadata": {},
     "output_type": "execute_result"
    },
    {
     "data": {
      "image/png": "[encoded data removed]",
      "text/plain": [
       "<Figure size 360x360 with 1 Axes>"
      ]
     },
     "metadata": {
      "needs_background": "light"
     },
     "output_type": "display_data"
    }
   ],
   "source": [
    "import matplotlib.pyplot as plt\n",
    "piloto[\"agility\"].plot (kind = \"hist\", bins = 15 ,  title =\"frecuencia de agilidad\"\n",
    "                        , figsize= (5,5))\n",
    "\n",
    "# Hacemos una observación gráfica de las dos variables, y podemos ver que tiene una cierta tendencia a una normal. \n",
    "# al ser la media una variable aleatoriam( ya que depende del tamaño de la muestrta y de los elementos seleccionados u(i)), \n",
    "# para n tendiendo a infinito, tiende a una normal( Teorema del límite Central)\n",
    "\n"
   ]
  },
  {
   "cell_type": "code",
   "execution_count": 78,
   "id": "f7bad3f1",
   "metadata": {},
   "outputs": [
    {
     "data": {
      "text/plain": [
       "<AxesSubplot:title={'center':'frecuencia del cruce'}, ylabel='Frequency'>"
      ]
     },
     "execution_count": 78,
     "metadata": {},
     "output_type": "execute_result"
    },
    {
     "data": {
      "image/png": "[encoded data removed]",
      "text/plain": [
       "<Figure size 360x360 with 1 Axes>"
      ]
     },
     "metadata": {
      "needs_background": "light"
     },
     "output_type": "display_data"
    }
   ],
   "source": [
    "piloto[\"crossing\"].plot (kind = \"hist\", bins = 15,  title =\"frecuencia del cruce\"\n",
    "                        , figsize= (5,5))"
   ]
  },
  {
   "cell_type": "code",
   "execution_count": 57,
   "id": "fff87a61",
   "metadata": {},
   "outputs": [
    {
     "data": {
      "text/plain": [
       "right    224\n",
       "left      75\n",
       "Name: preferred_foot, dtype: int64"
      ]
     },
     "execution_count": 57,
     "metadata": {},
     "output_type": "execute_result"
    }
   ],
   "source": [
    "# por últimos nos falta anailzar los valores de la variable preferred_foot\n",
    "pil = piloto[\"preferred_foot\"].value_counts()\n",
    "pil"
   ]
  },
  {
   "cell_type": "code",
   "execution_count": 105,
   "id": "994a914c",
   "metadata": {},
   "outputs": [
    {
     "name": "stdout",
     "output_type": "stream",
     "text": [
      "0.75\n"
     ]
    }
   ],
   "source": [
    "pil0= pil.to_numpy()# PARTE CORREGIDA-\n",
    "\n",
    "p= pil0[0]/len(piloto)\n",
    "q = 1-p\n",
    "print (round(p,2))"
   ]
  },
  {
   "cell_type": "code",
   "execution_count": 130,
   "id": "2ea3570f",
   "metadata": {},
   "outputs": [
    {
     "name": "stdout",
     "output_type": "stream",
     "text": [
      " el coeficicente de correlación entre agility y crossing, es   : \n",
      " 0.5298131605817211\n"
     ]
    }
   ],
   "source": [
    "dfcorr0= piloto[[\"agility\", \"crossing\"]]\n",
    "corr0=dfcorr0.dropna()\n",
    "x0= corr0[\"agility\"]\n",
    "y0= corr0[\"crossing\"]\n",
    "r0=np.corrcoef(x0,y0)\n",
    "print (\" el coeficicente de correlación entre agility y crossing, es   : \\n\",r0[0][1] )"
   ]
  },
  {
   "cell_type": "code",
   "execution_count": 136,
   "id": "2d77b328",
   "metadata": {},
   "outputs": [
    {
     "data": {
      "text/plain": [
       "<AxesSubplot:xlabel='agility', ylabel='crossing'>"
      ]
     },
     "execution_count": 136,
     "metadata": {},
     "output_type": "execute_result"
    },
    {
     "data": {
      "image/png": "[encoded data removed]",
      "text/plain": [
       "<Figure size 432x288 with 1 Axes>"
      ]
     },
     "metadata": {
      "needs_background": "light"
     },
     "output_type": "display_data"
    }
   ],
   "source": [
    "# Por lo que son dos variables poco correlacionadas.  Tienen una dependencia baja \n",
    "corr0.plot(x= \"agility\", y=\"crossing\" , kind=\"scatter\")\n"
   ]
  },
  {
   "cell_type": "code",
   "execution_count": 97,
   "id": "fb0ef719",
   "metadata": {},
   "outputs": [],
   "source": [
    "# definimos n1,n2,n3 como los tamaños de la muestra mínimos, pata un coeficiente de confianza del 70 % con un margen de error \n",
    "# relativo del 10 %, tanto si tienen una tendencia normal o no, podemos usar el cuantil de la media Z( vía normal o desigualdad de\n",
    "# Chebyshev si no cumple con una tendencia a la media). Esto nos dice que para un tamaño n de una muestra, hay un 70% de que \n",
    "# las propiedades de la población total, se encuentren representadas en la muestra \n",
    "# Z para una confianza del 70 % es de 0,53, y el error relativo E = 0.1\n",
    "E= 0.1\n",
    "Z= 0.53\n",
    "N = len (dff)\n",
    "# sumando al resto de variables para calcular el tamaño de la muestra , N, D1, D2,p, q\n",
    "# repasando la fórmula de la extracción del tamaño de la muestra ."
   ]
  },
  {
   "cell_type": "markdown",
   "id": "e8421b3d",
   "metadata": {},
   "source": [
    "* \\begin{aligned}\\cdot \\\\ n=\\dfrac{NZ^{2}\\sigma ^{2}}{\\left( N-1\\right)  E^{2}+z^{2}\\sigma ^{2}}\\end{aligned}\n",
    "\n",
    "\n",
    "* \\begin{aligned}\\cdot \\\\  n=\\dfrac{Z^{2}Npq}{\\left( N-1\\right) e^{2}+Z^{2}pq}\\end{aligned}"
   ]
  },
  {
   "cell_type": "code",
   "execution_count": 98,
   "id": "64560f0f",
   "metadata": {},
   "outputs": [
    {
     "name": "stdout",
     "output_type": "stream",
     "text": [
      "4725.184015504919 7611.9459843068935 5.313254985849234\n"
     ]
    }
   ],
   "source": [
    "n1= (N* (Z**2) * (s1**2))/ ( (N-1)*(E**2) + (s1**2)* (Z**2)    )\n",
    "n2= (N* (Z**2) * (s2**2))/ ( (N-1)*(E**2) + (s2**2)* (Z**2) )\n",
    "n3= (N* (Z**2) * (p*q))/ ( (N-1)*(E**2) + (p*q)* (Z**2)   )\n",
    "\n",
    "\n",
    "print (n1,n2,n3)\n",
    "\n",
    "\n",
    "     "
   ]
  },
  {
   "cell_type": "code",
   "execution_count": 63,
   "id": "0f8a5076",
   "metadata": {},
   "outputs": [
    {
     "name": "stdout",
     "output_type": "stream",
     "text": [
      "4.14 %\n"
     ]
    }
   ],
   "source": [
    "# viendo que el resultado más grande es n2, tomaremos n2 para el tamaño de la muestra\n",
    "n2= int(round(n2,0))\n",
    "print (round((n2/N *100),2), \"%\") # el procentaje de la muestra respecto al total."
   ]
  },
  {
   "cell_type": "code",
   "execution_count": 81,
   "id": "a022f0e6",
   "metadata": {},
   "outputs": [
    {
     "data": {
      "text/html": [
       "<div>\n",
       "<style scoped>\n",
       "    .dataframe tbody tr th:only-of-type {\n",
       "        vertical-align: middle;\n",
       "    }\n",
       "\n",
       "    .dataframe tbody tr th {\n",
       "        vertical-align: top;\n",
       "    }\n",
       "\n",
       "    .dataframe thead th {\n",
       "        text-align: right;\n",
       "    }\n",
       "</style>\n",
       "<table border=\"1\" class=\"dataframe\">\n",
       "  <thead>\n",
       "    <tr style=\"text-align: right;\">\n",
       "      <th></th>\n",
       "      <th>preferred_foot</th>\n",
       "      <th>agility</th>\n",
       "      <th>crossing</th>\n",
       "    </tr>\n",
       "  </thead>\n",
       "  <tbody>\n",
       "    <tr>\n",
       "      <th>123529</th>\n",
       "      <td>right</td>\n",
       "      <td>65.0</td>\n",
       "      <td>53.0</td>\n",
       "    </tr>\n",
       "    <tr>\n",
       "      <th>32602</th>\n",
       "      <td>right</td>\n",
       "      <td>75.0</td>\n",
       "      <td>60.0</td>\n",
       "    </tr>\n",
       "    <tr>\n",
       "      <th>152621</th>\n",
       "      <td>right</td>\n",
       "      <td>73.0</td>\n",
       "      <td>69.0</td>\n",
       "    </tr>\n",
       "    <tr>\n",
       "      <th>41835</th>\n",
       "      <td>right</td>\n",
       "      <td>86.0</td>\n",
       "      <td>68.0</td>\n",
       "    </tr>\n",
       "    <tr>\n",
       "      <th>12730</th>\n",
       "      <td>right</td>\n",
       "      <td>56.0</td>\n",
       "      <td>16.0</td>\n",
       "    </tr>\n",
       "  </tbody>\n",
       "</table>\n",
       "</div>"
      ],
      "text/plain": [
       "       preferred_foot  agility  crossing\n",
       "123529          right     65.0      53.0\n",
       "32602           right     75.0      60.0\n",
       "152621          right     73.0      69.0\n",
       "41835           right     86.0      68.0\n",
       "12730           right     56.0      16.0"
      ]
     },
     "execution_count": 81,
     "metadata": {},
     "output_type": "execute_result"
    }
   ],
   "source": [
    "# Así que el muestreo aleatoria simple es \n",
    "df1 = dff.sample(n = n2)\n",
    "\n",
    "df1.head()"
   ]
  },
  {
   "cell_type": "code",
   "execution_count": 93,
   "id": "41af1e4c",
   "metadata": {},
   "outputs": [
    {
     "name": "stdout",
     "output_type": "stream",
     "text": [
      "La variable agility tiene una Mediana de 68.0, una moda de 72.0 y un valor medio de  65.92\n",
      "La variable crossing tiene una Mediana de 59.0, una moda de 68.0 y un valor medio de  55.40\n"
     ]
    }
   ],
   "source": [
    "# pasamos a mirar los resultados de su variables \n",
    "agi1= df1 [\"agility\"]\n",
    "cro1= df1 [\"crossing\"]\n",
    "# limpiamos todos los valores nulos. \n",
    "agi1=agi1.dropna()\n",
    "cro1=cro1.dropna()\n",
    "\n",
    "\n",
    "agi_mat1= agi1.to_numpy()\n",
    "cro_mat1= cro1.to_numpy()\n",
    "\n",
    "\n",
    "\n",
    "     \n",
    "agimdna1= mediana(agi1)\n",
    "cromdna1= mediana(cro1)\n",
    "agimod1= moda(agi1)\n",
    "cromod1=moda(cro1)\n",
    "agimed1= media(agi1)\n",
    "cromed1=media(cro1)\n",
    "\n",
    "\n",
    "\n",
    "print (\"La variable {} tiene una Mediana de {}, una moda de {} y un valor medio de  {:.2f}\".format(\"agility\",\n",
    "                        agimdna1,agimod1[0],agimed1) ) \n",
    "\n",
    "print (\"La variable {} tiene una Mediana de {}, una moda de {} y un valor medio de  {:.2f}\".format(\"crossing\",\n",
    "                        cromdna1,cromod1[0],cromed1))\n",
    "\n",
    "\n"
   ]
  },
  {
   "cell_type": "code",
   "execution_count": 86,
   "id": "9d79e099",
   "metadata": {},
   "outputs": [
    {
     "name": "stdout",
     "output_type": "stream",
     "text": [
      " la desviación estándar de agility es 12.81\n",
      " la desviación estándar de crossing es 17.06\n"
     ]
    }
   ],
   "source": [
    "s11= np.std(agi_mat1)# desviación para la variable agility\n",
    "s21= np.std(cro_mat1) # desviación para crossing. \n",
    "piloto.describe() # sacamos información estadística sobre la prueba piloto. Y de ahí sacamos la desviación de ambas \n",
    "# variables cuantificables. \n",
    "print ( \" la desviación estándar de {} es {:.2f}\".format(\"agility\", s11))\n",
    "print ( \" la desviación estándar de {} es {:.2f}\".format(\"crossing\", s21))"
   ]
  },
  {
   "cell_type": "code",
   "execution_count": 99,
   "id": "d10e27bf",
   "metadata": {},
   "outputs": [
    {
     "data": {
      "text/plain": [
       "right    5767\n",
       "left     1818\n",
       "Name: preferred_foot, dtype: int64"
      ]
     },
     "execution_count": 99,
     "metadata": {},
     "output_type": "execute_result"
    }
   ],
   "source": [
    "pil1=df1[\"preferred_foot\"].value_counts()# para mirar el porcentajes de diestros o zurdos, \n",
    "pil1"
   ]
  },
  {
   "cell_type": "code",
   "execution_count": 106,
   "id": "5c09eace",
   "metadata": {},
   "outputs": [
    {
     "name": "stdout",
     "output_type": "stream",
     "text": [
      "0.76  es el valor de p para la muestra,  lo comparamos con p de la piloto que es  : 0.75\n"
     ]
    }
   ],
   "source": [
    "pil11= pil1.to_numpy()# PARTE CORREGIDA-\n",
    "\n",
    "p1= pil11[0]/len(df1)\n",
    "q1 = 1-p1\n",
    "print (round(p1,2), \" es el valor de p para la muestra,  lo comparamos con p de la piloto que es  :\" , round(p,2))"
   ]
  },
  {
   "cell_type": "code",
   "execution_count": 89,
   "id": "384d2ee2",
   "metadata": {},
   "outputs": [
    {
     "data": {
      "text/plain": [
       "<AxesSubplot:title={'center':'frecuencia de agilidad'}, ylabel='Frequency'>"
      ]
     },
     "execution_count": 89,
     "metadata": {},
     "output_type": "execute_result"
    },
    {
     "data": {
      "image/png": "[encoded data removed]",
      "text/plain": [
       "<Figure size 360x360 with 1 Axes>"
      ]
     },
     "metadata": {
      "needs_background": "light"
     },
     "output_type": "display_data"
    }
   ],
   "source": [
    "# si miramos los gráficos , podremos ver cierto parecido con el piloto\n",
    "df1[\"agility\"].plot (kind = \"hist\", bins = 15, title =\"frecuencia de agilidad\"\n",
    "                        , figsize= (5,5))"
   ]
  },
  {
   "cell_type": "code",
   "execution_count": 90,
   "id": "9b00923d",
   "metadata": {},
   "outputs": [
    {
     "data": {
      "text/plain": [
       "<AxesSubplot:title={'center':'frecuencia del cruce'}, ylabel='Frequency'>"
      ]
     },
     "execution_count": 90,
     "metadata": {},
     "output_type": "execute_result"
    },
    {
     "data": {
      "image/png": "[encoded data removed]",
      "text/plain": [
       "<Figure size 360x360 with 1 Axes>"
      ]
     },
     "metadata": {
      "needs_background": "light"
     },
     "output_type": "display_data"
    }
   ],
   "source": [
    "df1[\"crossing\"].plot (kind = \"hist\", bins = 15,  title =\"frecuencia del cruce\"\n",
    "                        , figsize= (5,5))"
   ]
  },
  {
   "cell_type": "code",
   "execution_count": 131,
   "id": "f402aa72",
   "metadata": {},
   "outputs": [
    {
     "name": "stdout",
     "output_type": "stream",
     "text": [
      " el coeficicente de correlación entre agility y crossing, es   : \n",
      " 0.6014681657546206\n"
     ]
    }
   ],
   "source": [
    " dfcorr1= df1[[\"agility\", \"crossing\"]]\n",
    "corr1=dfcorr1.dropna()\n",
    "x1= corr1[\"agility\"]\n",
    "y1= corr1[\"crossing\"]\n",
    "r1=np.corrcoef(x1,y1)\n",
    "print (\" el coeficicente de correlación entre agility y crossing, es   : \\n\",r1[0][1] )"
   ]
  },
  {
   "cell_type": "code",
   "execution_count": 137,
   "id": "19cd7940",
   "metadata": {},
   "outputs": [
    {
     "data": {
      "text/plain": [
       "<AxesSubplot:xlabel='agility', ylabel='crossing'>"
      ]
     },
     "execution_count": 137,
     "metadata": {},
     "output_type": "execute_result"
    },
    {
     "data": {
      "image/png": "[encoded data removed]",
      "text/plain": [
       "<Figure size 432x288 with 1 Axes>"
      ]
     },
     "metadata": {
      "needs_background": "light"
     },
     "output_type": "display_data"
    }
   ],
   "source": [
    "# Por lo que son dos variables poco correlacionadas.  Tienen una dependencia baja, baja correlación \n",
    "corr1.plot(x= \"agility\", y=\"crossing\" , kind=\"scatter\")"
   ]
  },
  {
   "cell_type": "code",
   "execution_count": 91,
   "id": "d13b9292",
   "metadata": {},
   "outputs": [
    {
     "name": "stdout",
     "output_type": "stream",
     "text": [
      "24.169\n"
     ]
    }
   ],
   "source": [
    "# para hacer el nuestreo sistemático, partiremos de un valor u(i), y  a partir de ahí, iremos añadiendo un elemento \n",
    "# a la muestra cada k índices, dónde k = N/ n2, \n",
    "k =round( N/ n2,3)\n",
    "# el primer número elegido u0, lo seleccionamos tal que u0 <= k\n",
    "print (k)"
   ]
  },
  {
   "cell_type": "code",
   "execution_count": 92,
   "id": "8e9a80ee",
   "metadata": {},
   "outputs": [
    {
     "data": {
      "text/html": [
       "<div>\n",
       "<style scoped>\n",
       "    .dataframe tbody tr th:only-of-type {\n",
       "        vertical-align: middle;\n",
       "    }\n",
       "\n",
       "    .dataframe tbody tr th {\n",
       "        vertical-align: top;\n",
       "    }\n",
       "\n",
       "    .dataframe thead th {\n",
       "        text-align: right;\n",
       "    }\n",
       "</style>\n",
       "<table border=\"1\" class=\"dataframe\">\n",
       "  <thead>\n",
       "    <tr style=\"text-align: right;\">\n",
       "      <th></th>\n",
       "      <th>preferred_foot</th>\n",
       "      <th>agility</th>\n",
       "      <th>crossing</th>\n",
       "    </tr>\n",
       "  </thead>\n",
       "  <tbody>\n",
       "    <tr>\n",
       "      <th>22</th>\n",
       "      <td>left</td>\n",
       "      <td>81.0</td>\n",
       "      <td>77.0</td>\n",
       "    </tr>\n",
       "    <tr>\n",
       "      <th>47</th>\n",
       "      <td>right</td>\n",
       "      <td>81.0</td>\n",
       "      <td>73.0</td>\n",
       "    </tr>\n",
       "    <tr>\n",
       "      <th>72</th>\n",
       "      <td>right</td>\n",
       "      <td>63.0</td>\n",
       "      <td>56.0</td>\n",
       "    </tr>\n",
       "    <tr>\n",
       "      <th>97</th>\n",
       "      <td>right</td>\n",
       "      <td>49.0</td>\n",
       "      <td>45.0</td>\n",
       "    </tr>\n",
       "    <tr>\n",
       "      <th>122</th>\n",
       "      <td>left</td>\n",
       "      <td>79.0</td>\n",
       "      <td>77.0</td>\n",
       "    </tr>\n",
       "    <tr>\n",
       "      <th>...</th>\n",
       "      <td>...</td>\n",
       "      <td>...</td>\n",
       "      <td>...</td>\n",
       "    </tr>\n",
       "    <tr>\n",
       "      <th>183872</th>\n",
       "      <td>left</td>\n",
       "      <td>85.0</td>\n",
       "      <td>70.0</td>\n",
       "    </tr>\n",
       "    <tr>\n",
       "      <th>183897</th>\n",
       "      <td>left</td>\n",
       "      <td>70.0</td>\n",
       "      <td>65.0</td>\n",
       "    </tr>\n",
       "    <tr>\n",
       "      <th>183922</th>\n",
       "      <td>left</td>\n",
       "      <td>43.0</td>\n",
       "      <td>45.0</td>\n",
       "    </tr>\n",
       "    <tr>\n",
       "      <th>183947</th>\n",
       "      <td>left</td>\n",
       "      <td>62.0</td>\n",
       "      <td>73.0</td>\n",
       "    </tr>\n",
       "    <tr>\n",
       "      <th>183972</th>\n",
       "      <td>right</td>\n",
       "      <td>77.0</td>\n",
       "      <td>84.0</td>\n",
       "    </tr>\n",
       "  </tbody>\n",
       "</table>\n",
       "<p>7359 rows × 3 columns</p>\n",
       "</div>"
      ],
      "text/plain": [
       "       preferred_foot  agility  crossing\n",
       "22               left     81.0      77.0\n",
       "47              right     81.0      73.0\n",
       "72              right     63.0      56.0\n",
       "97              right     49.0      45.0\n",
       "122              left     79.0      77.0\n",
       "...               ...      ...       ...\n",
       "183872           left     85.0      70.0\n",
       "183897           left     70.0      65.0\n",
       "183922           left     43.0      45.0\n",
       "183947           left     62.0      73.0\n",
       "183972          right     77.0      84.0\n",
       "\n",
       "[7359 rows x 3 columns]"
      ]
     },
     "execution_count": 92,
     "metadata": {},
     "output_type": "execute_result"
    }
   ],
   "source": [
    "import math\n",
    "k= math.ceil(k)\n",
    "# escogemos un número al azar entre los primeros k \n",
    "u0 = np.random.randint(1, k)\n",
    "# y seleccionamos del data set , aquellos u(0 +k), u(0+2k), u(0+3k),.... u0+ (n2-1)k\n",
    "df2 = dff [u0 : N : k]\n",
    "df2\n"
   ]
  },
  {
   "cell_type": "code",
   "execution_count": 94,
   "id": "bb67c608",
   "metadata": {},
   "outputs": [
    {
     "name": "stdout",
     "output_type": "stream",
     "text": [
      "La variable agility tiene una Mediana de 68.0, una moda de 72.0 y un valor medio de  66.12\n",
      "La variable crossing tiene una Mediana de 59.0, una moda de 62.0 y un valor medio de  55.11\n"
     ]
    }
   ],
   "source": [
    "#describimos las dos variables \n",
    "\n",
    "# pasamos a mirar los resultados de su variables \n",
    "agi2= df2 [\"agility\"]\n",
    "cro2= df2 [\"crossing\"]\n",
    "# limpiamos todos los valores nulos. \n",
    "agi2=agi2.dropna()\n",
    "cro2=cro2.dropna()\n",
    "\n",
    "\n",
    "agi_mat2= agi2.to_numpy()\n",
    "cro_mat2= cro2.to_numpy()\n",
    "\n",
    "\n",
    "\n",
    "     \n",
    "agimdna2= mediana(agi2)\n",
    "cromdna2= mediana(cro2)\n",
    "agimod2= moda(agi2)\n",
    "cromod2=moda(cro2)\n",
    "agimed2= media(agi2)\n",
    "cromed2=media(cro2)\n",
    "\n",
    "\n",
    "\n",
    "print (\"La variable {} tiene una Mediana de {}, una moda de {} y un valor medio de  {:.2f}\".format(\"agility\",\n",
    "                        agimdna2,agimod2[0],agimed2) ) \n",
    "\n",
    "print (\"La variable {} tiene una Mediana de {}, una moda de {} y un valor medio de  {:.2f}\".format(\"crossing\",\n",
    "                        cromdna2,cromod2[0],cromed2))\n"
   ]
  },
  {
   "cell_type": "code",
   "execution_count": 104,
   "id": "a166d8eb",
   "metadata": {},
   "outputs": [
    {
     "data": {
      "text/plain": [
       "right    5572\n",
       "left     1756\n",
       "Name: preferred_foot, dtype: int64"
      ]
     },
     "execution_count": 104,
     "metadata": {},
     "output_type": "execute_result"
    }
   ],
   "source": [
    "pil2=df2[\"preferred_foot\"].value_counts()# para mirar el porcentajes de diestros o zurdos, \n",
    "pil2"
   ]
  },
  {
   "cell_type": "code",
   "execution_count": 107,
   "id": "730fc643",
   "metadata": {},
   "outputs": [
    {
     "name": "stdout",
     "output_type": "stream",
     "text": [
      "0.73  es el valor de p para la muestra,  lo comparamos con p de la piloto que es  : 0.75\n"
     ]
    }
   ],
   "source": [
    "pil21= pil2.to_numpy()# PARTE CORREGIDA-\n",
    "\n",
    "p2= pil21[0]/len(df1)\n",
    "q2 = 1-p2\n",
    "print (round(p2,2), \" es el valor de p para la muestra,  lo comparamos con p de la piloto que es  :\" , round(p,2)) "
   ]
  },
  {
   "cell_type": "code",
   "execution_count": 108,
   "id": "e04f46a5",
   "metadata": {},
   "outputs": [
    {
     "data": {
      "text/plain": [
       "<AxesSubplot:ylabel='Frequency'>"
      ]
     },
     "execution_count": 108,
     "metadata": {},
     "output_type": "execute_result"
    },
    {
     "data": {
      "image/png": "[encoded data removed]",
      "text/plain": [
       "<Figure size 360x360 with 1 Axes>"
      ]
     },
     "metadata": {
      "needs_background": "light"
     },
     "output_type": "display_data"
    }
   ],
   "source": [
    "df2[\"agility\"].plot (kind = \"hist\", bins = 15\n",
    "                        , figsize= (5,5))"
   ]
  },
  {
   "cell_type": "code",
   "execution_count": 109,
   "id": "f631c55f",
   "metadata": {},
   "outputs": [
    {
     "data": {
      "text/plain": [
       "<AxesSubplot:ylabel='Frequency'>"
      ]
     },
     "execution_count": 109,
     "metadata": {},
     "output_type": "execute_result"
    },
    {
     "data": {
      "image/png": "[encoded data removed]",
      "text/plain": [
       "<Figure size 360x360 with 1 Axes>"
      ]
     },
     "metadata": {
      "needs_background": "light"
     },
     "output_type": "display_data"
    }
   ],
   "source": [
    "df2[\"crossing\"].plot (kind = \"hist\", bins = 15\n",
    "                        , figsize= (5,5)) # dónde en ambas gráficas podemos observar la misma tendencia que el muestreo simple\n",
    "# y la prueba piloto. \n"
   ]
  },
  {
   "cell_type": "code",
   "execution_count": 132,
   "id": "1beb041f",
   "metadata": {},
   "outputs": [
    {
     "name": "stdout",
     "output_type": "stream",
     "text": [
      " el coeficicente de correlación entre agility y crossing, es   : \n",
      " 0.6027170344367029\n"
     ]
    }
   ],
   "source": [
    " dfcorr2= df2[[\"agility\", \"crossing\"]]\n",
    "corr2=dfcorr2.dropna()\n",
    "x2= corr2[\"agility\"]\n",
    "y2= corr2[\"crossing\"]\n",
    "r2=np.corrcoef(x2,y2)\n",
    "print (\" el coeficicente de correlación entre agility y crossing, es   : \\n\",r2[0][1] )"
   ]
  },
  {
   "cell_type": "code",
   "execution_count": 138,
   "id": "cb5e2746",
   "metadata": {},
   "outputs": [
    {
     "data": {
      "text/plain": [
       "<AxesSubplot:xlabel='agility', ylabel='crossing'>"
      ]
     },
     "execution_count": 138,
     "metadata": {},
     "output_type": "execute_result"
    },
    {
     "data": {
      "image/png": "[encoded data removed]",
      "text/plain": [
       "<Figure size 432x288 with 1 Axes>"
      ]
     },
     "metadata": {
      "needs_background": "light"
     },
     "output_type": "display_data"
    }
   ],
   "source": [
    "# Por lo que son dos variables poco correlacionadas.  Tienen una dependencia baja, baja correlación \n",
    "corr2.plot(x= \"agility\", y=\"crossing\" , kind=\"scatter\")"
   ]
  }
 ],
 "metadata": {
  "kernelspec": {
   "display_name": "Python 3 (ipykernel)",
   "language": "python",
   "name": "python3"
  },
  "language_info": {
   "codemirror_mode": {
    "name": "ipython",
    "version": 3
   },
   "file_extension": ".py",
   "mimetype": "text/x-python",
   "name": "python",
   "nbconvert_exporter": "python",
   "pygments_lexer": "ipython3",
   "version": "3.9.7"
  }
 },
 "nbformat": 4,
 "nbformat_minor": 5
}
